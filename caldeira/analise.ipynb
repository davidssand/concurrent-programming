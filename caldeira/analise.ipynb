{
 "cells": [
  {
   "cell_type": "markdown",
   "metadata": {},
   "source": [
    "# T1 - Programacao Concorrente\n",
    "\n",
    "\n",
    "# Objetivo\n",
    "Implementar em C no Linux o programa CONTROLADOR, o qual deve incluir as seguintes funcionalidades de controle:\n",
    "\n",
    "- Laço de controle como tarefa periódica para a temperatura;\n",
    "- Uso do tanque auxiliar e da saída de água;\n",
    "- Informações na tela sobre a situação corrente.\n",
    "\n",
    "Outros requisitos:\n",
    "- Não usar threads;\n",
    "- Período do controlador de temperatura deve ser 30ms exato, ver exemplo;\n",
    "- Atualização da tela pode ser aproximadamente a cada 1 segundo.\n",
    "\n",
    "Adicionalmente:\n",
    "\n",
    "- Número de amostras >= 10000.\n",
    "- Usar como unidade microsegundo nos gráficos.\n",
    "- Fazer a coleta dos dados em máquina real e não em máquina virtual.\n",
    "- Gerar relatório em PDF com texto descrevendo as observações e os gráficos."
   ]
  },
  {
   "cell_type": "code",
   "execution_count": 2,
   "metadata": {},
   "outputs": [],
   "source": [
    "import pandas as pd\n",
    "import seaborn as sns\n",
    "from matplotlib import pyplot as plt"
   ]
  },
  {
   "cell_type": "code",
   "execution_count": 26,
   "metadata": {},
   "outputs": [
    {
     "data": {
      "text/html": [
       "<div>\n",
       "<style scoped>\n",
       "    .dataframe tbody tr th:only-of-type {\n",
       "        vertical-align: middle;\n",
       "    }\n",
       "\n",
       "    .dataframe tbody tr th {\n",
       "        vertical-align: top;\n",
       "    }\n",
       "\n",
       "    .dataframe thead th {\n",
       "        text-align: right;\n",
       "    }\n",
       "</style>\n",
       "<table border=\"1\" class=\"dataframe\">\n",
       "  <thead>\n",
       "    <tr style=\"text-align: right;\">\n",
       "      <th></th>\n",
       "      <th>response_times_ns</th>\n",
       "    </tr>\n",
       "  </thead>\n",
       "  <tbody>\n",
       "    <tr>\n",
       "      <th>0</th>\n",
       "      <td>2554980</td>\n",
       "    </tr>\n",
       "    <tr>\n",
       "      <th>1</th>\n",
       "      <td>784024</td>\n",
       "    </tr>\n",
       "    <tr>\n",
       "      <th>2</th>\n",
       "      <td>1601030</td>\n",
       "    </tr>\n",
       "    <tr>\n",
       "      <th>3</th>\n",
       "      <td>919919</td>\n",
       "    </tr>\n",
       "    <tr>\n",
       "      <th>4</th>\n",
       "      <td>1784369</td>\n",
       "    </tr>\n",
       "    <tr>\n",
       "      <th>...</th>\n",
       "      <td>...</td>\n",
       "    </tr>\n",
       "    <tr>\n",
       "      <th>514</th>\n",
       "      <td>2710635</td>\n",
       "    </tr>\n",
       "    <tr>\n",
       "      <th>515</th>\n",
       "      <td>1345372</td>\n",
       "    </tr>\n",
       "    <tr>\n",
       "      <th>516</th>\n",
       "      <td>2691360</td>\n",
       "    </tr>\n",
       "    <tr>\n",
       "      <th>517</th>\n",
       "      <td>1572694</td>\n",
       "    </tr>\n",
       "    <tr>\n",
       "      <th>518</th>\n",
       "      <td>416</td>\n",
       "    </tr>\n",
       "  </tbody>\n",
       "</table>\n",
       "<p>519 rows × 1 columns</p>\n",
       "</div>"
      ],
      "text/plain": [
       "     response_times_ns\n",
       "0              2554980\n",
       "1               784024\n",
       "2              1601030\n",
       "3               919919\n",
       "4              1784369\n",
       "..                 ...\n",
       "514            2710635\n",
       "515            1345372\n",
       "516            2691360\n",
       "517            1572694\n",
       "518                416\n",
       "\n",
       "[519 rows x 1 columns]"
      ]
     },
     "metadata": {},
     "output_type": "display_data"
    },
    {
     "data": {
      "text/html": [
       "<div>\n",
       "<style scoped>\n",
       "    .dataframe tbody tr th:only-of-type {\n",
       "        vertical-align: middle;\n",
       "    }\n",
       "\n",
       "    .dataframe tbody tr th {\n",
       "        vertical-align: top;\n",
       "    }\n",
       "\n",
       "    .dataframe thead th {\n",
       "        text-align: right;\n",
       "    }\n",
       "</style>\n",
       "<table border=\"1\" class=\"dataframe\">\n",
       "  <thead>\n",
       "    <tr style=\"text-align: right;\">\n",
       "      <th></th>\n",
       "      <th>response_times_ns</th>\n",
       "    </tr>\n",
       "  </thead>\n",
       "  <tbody>\n",
       "    <tr>\n",
       "      <th>0</th>\n",
       "      <td>2398190</td>\n",
       "    </tr>\n",
       "    <tr>\n",
       "      <th>1</th>\n",
       "      <td>1281398</td>\n",
       "    </tr>\n",
       "    <tr>\n",
       "      <th>2</th>\n",
       "      <td>1508281</td>\n",
       "    </tr>\n",
       "    <tr>\n",
       "      <th>3</th>\n",
       "      <td>1819043</td>\n",
       "    </tr>\n",
       "    <tr>\n",
       "      <th>4</th>\n",
       "      <td>600811</td>\n",
       "    </tr>\n",
       "    <tr>\n",
       "      <th>...</th>\n",
       "      <td>...</td>\n",
       "    </tr>\n",
       "    <tr>\n",
       "      <th>514</th>\n",
       "      <td>1908052</td>\n",
       "    </tr>\n",
       "    <tr>\n",
       "      <th>515</th>\n",
       "      <td>1146317</td>\n",
       "    </tr>\n",
       "    <tr>\n",
       "      <th>516</th>\n",
       "      <td>593455</td>\n",
       "    </tr>\n",
       "    <tr>\n",
       "      <th>517</th>\n",
       "      <td>656711</td>\n",
       "    </tr>\n",
       "    <tr>\n",
       "      <th>518</th>\n",
       "      <td>603</td>\n",
       "    </tr>\n",
       "  </tbody>\n",
       "</table>\n",
       "<p>519 rows × 1 columns</p>\n",
       "</div>"
      ],
      "text/plain": [
       "     response_times_ns\n",
       "0              2398190\n",
       "1              1281398\n",
       "2              1508281\n",
       "3              1819043\n",
       "4               600811\n",
       "..                 ...\n",
       "514            1908052\n",
       "515            1146317\n",
       "516             593455\n",
       "517             656711\n",
       "518                603\n",
       "\n",
       "[519 rows x 1 columns]"
      ]
     },
     "metadata": {},
     "output_type": "display_data"
    },
    {
     "data": {
      "text/html": [
       "<div>\n",
       "<style scoped>\n",
       "    .dataframe tbody tr th:only-of-type {\n",
       "        vertical-align: middle;\n",
       "    }\n",
       "\n",
       "    .dataframe tbody tr th {\n",
       "        vertical-align: top;\n",
       "    }\n",
       "\n",
       "    .dataframe thead th {\n",
       "        text-align: right;\n",
       "    }\n",
       "</style>\n",
       "<table border=\"1\" class=\"dataframe\">\n",
       "  <thead>\n",
       "    <tr style=\"text-align: right;\">\n",
       "      <th></th>\n",
       "      <th>response_times_ns</th>\n",
       "    </tr>\n",
       "  </thead>\n",
       "  <tbody>\n",
       "    <tr>\n",
       "      <th>0</th>\n",
       "      <td>958655</td>\n",
       "    </tr>\n",
       "    <tr>\n",
       "      <th>1</th>\n",
       "      <td>62268</td>\n",
       "    </tr>\n",
       "    <tr>\n",
       "      <th>2</th>\n",
       "      <td>68243</td>\n",
       "    </tr>\n",
       "    <tr>\n",
       "      <th>3</th>\n",
       "      <td>187350</td>\n",
       "    </tr>\n",
       "    <tr>\n",
       "      <th>4</th>\n",
       "      <td>146888</td>\n",
       "    </tr>\n",
       "    <tr>\n",
       "      <th>...</th>\n",
       "      <td>...</td>\n",
       "    </tr>\n",
       "    <tr>\n",
       "      <th>4357</th>\n",
       "      <td>65978</td>\n",
       "    </tr>\n",
       "    <tr>\n",
       "      <th>4358</th>\n",
       "      <td>66976</td>\n",
       "    </tr>\n",
       "    <tr>\n",
       "      <th>4359</th>\n",
       "      <td>86215</td>\n",
       "    </tr>\n",
       "    <tr>\n",
       "      <th>4360</th>\n",
       "      <td>57917</td>\n",
       "    </tr>\n",
       "    <tr>\n",
       "      <th>4361</th>\n",
       "      <td>6</td>\n",
       "    </tr>\n",
       "  </tbody>\n",
       "</table>\n",
       "<p>4362 rows × 1 columns</p>\n",
       "</div>"
      ],
      "text/plain": [
       "      response_times_ns\n",
       "0                958655\n",
       "1                 62268\n",
       "2                 68243\n",
       "3                187350\n",
       "4                146888\n",
       "...                 ...\n",
       "4357              65978\n",
       "4358              66976\n",
       "4359              86215\n",
       "4360              57917\n",
       "4361                  6\n",
       "\n",
       "[4362 rows x 1 columns]"
      ]
     },
     "execution_count": 26,
     "metadata": {},
     "output_type": "execute_result"
    }
   ],
   "source": [
    "NANOSEC_PER_MICRO = 1000\n",
    "temperature_response_times = pd.read_csv('temperature.csv', header=None)\n",
    "temperature_response_times.columns = ['response_times_ns']\n",
    "display(temperature_response_times)\n",
    "\n",
    "height_response_times = pd.read_csv('height.csv', header=None)\n",
    "height_response_times.columns = ['response_times_ns']\n",
    "display(height_response_times)\n",
    "\n",
    "alarm_response_times = pd.read_csv('alarm.csv', header=None)\n",
    "alarm_response_times.columns = ['response_times_ns']\n",
    "alarm_response_times"
   ]
  },
  {
   "cell_type": "code",
   "execution_count": 31,
   "metadata": {},
   "outputs": [],
   "source": [
    "def plot_resposnse_time(response_times, name):\n",
    "    rtmis = response_times.response_times_ns / NANOSEC_PER_MICRO\n",
    "\n",
    "    sns_plot = plt.figure(figsize=(15, 10))\n",
    "    sns.histplot(rtmis)\n",
    "    plt.title(f'Distribuição dos tempos de resposta para a(o) {name}')\n",
    "    plt.ylabel('Contagem')\n",
    "    plt.xlabel('Tempo de resposta [μs]')\n",
    "    # sns_plot.savefig(\"response_time_distribution.png\")\n",
    "    plt.show()\n",
    "\n",
    "    print(f'Numero de amostras: {response_times.shape[0]}')\n",
    "    print(f'Media: {rtmis.mean()} μs')\n",
    "    print(f'Mediana: {rtmis.median()} μs')\n",
    "    print(f'Desvio padrao: {rtmis.std()} μs')\n",
    "    print(f'Max: {rtmis.max()} μs')\n",
    "    print(f'Min: {rtmis.min()} μs')"
   ]
  },
  {
   "cell_type": "code",
   "execution_count": 32,
   "metadata": {
    "scrolled": false
   },
   "outputs": [
    {
     "data": {
      "image/png": "[encoded data removed]",
      "text/plain": [
       "<Figure size 1080x720 with 1 Axes>"
      ]
     },
     "metadata": {
      "needs_background": "light"
     },
     "output_type": "display_data"
    },
    {
     "name": "stdout",
     "output_type": "stream",
     "text": [
      "Numero de amostras: 519\n",
      "Media: 1910.4911849710984 μs\n",
      "Mediana: 1720.913 μs\n",
      "Desvio padrao: 986.9420595695664 μs\n",
      "Max: 7849.914 μs\n",
      "Min: 0.416 μs\n"
     ]
    },
    {
     "data": {
      "image/png": "[encoded data removed]",
      "text/plain": [
       "<Figure size 1080x720 with 1 Axes>"
      ]
     },
     "metadata": {
      "needs_background": "light"
     },
     "output_type": "display_data"
    },
    {
     "name": "stdout",
     "output_type": "stream",
     "text": [
      "Numero de amostras: 519\n",
      "Media: 1975.3047052023119 μs\n",
      "Mediana: 1765.743 μs\n",
      "Desvio padrao: 1125.5319974209724 μs\n",
      "Max: 12367.336 μs\n",
      "Min: 0.603 μs\n"
     ]
    },
    {
     "data": {
      "image/png": "[encoded data removed]",
      "text/plain": [
       "<Figure size 1080x720 with 1 Axes>"
      ]
     },
     "metadata": {
      "needs_background": "light"
     },
     "output_type": "display_data"
    },
    {
     "name": "stdout",
     "output_type": "stream",
     "text": [
      "Numero de amostras: 4362\n",
      "Media: 164.77893305823017 μs\n",
      "Mediana: 106.9625 μs\n",
      "Desvio padrao: 293.228966819366 μs\n",
      "Max: 6624.231 μs\n",
      "Min: 0.006 μs\n"
     ]
    }
   ],
   "source": [
    "plot_resposnse_time(temperature_response_times, 'Temperature')\n",
    "plot_resposnse_time(height_response_times, 'Altura')\n",
    "plot_resposnse_time(alarm_response_times, 'Alarme')"
   ]
  },
  {
   "cell_type": "code",
   "execution_count": 8,
   "metadata": {},
   "outputs": [
    {
     "name": "stdout",
     "output_type": "stream",
     "text": [
      "Grupo: David Steiner Sand - 17100655\n"
     ]
    },
    {
     "data": {
      "image/png": "[encoded data removed]",
      "text/plain": [
       "<Figure size 1080x720 with 1 Axes>"
      ]
     },
     "metadata": {
      "needs_background": "light"
     },
     "output_type": "display_data"
    },
    {
     "name": "stdout",
     "output_type": "stream",
     "text": [
      "Numero de amostras: 20000\n",
      "Media: 1532.2609378 μs\n",
      "Mediana: 1443.011 μs\n",
      "Desvio padrao: 634.8227007513854 μs\n",
      "Max: 26305.061 μs\n",
      "Min: 316.344 μs\n",
      "Codigo fonte: https://github.com/davidssand/concurrent-programming\n"
     ]
    }
   ],
   "source": [
    "print('Grupo: David Steiner Sand - 17100655')\n",
    "\n",
    "\n",
    "print(f'Codigo fonte: https://github.com/davidssand/concurrent-programming')"
   ]
  },
  {
   "cell_type": "code",
   "execution_count": null,
   "metadata": {},
   "outputs": [],
   "source": []
  }
 ],
 "metadata": {
  "kernelspec": {
   "display_name": "concurrent_programming",
   "language": "python",
   "name": "concurrent_programming"
  },
  "language_info": {
   "codemirror_mode": {
    "name": "ipython",
    "version": 3
   },
   "file_extension": ".py",
   "mimetype": "text/x-python",
   "name": "python",
   "nbconvert_exporter": "python",
   "pygments_lexer": "ipython3",
   "version": "3.6.9"
  }
 },
 "nbformat": 4,
 "nbformat_minor": 2
}
