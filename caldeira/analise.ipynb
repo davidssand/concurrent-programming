{
 "cells": [
  {
   "cell_type": "markdown",
   "metadata": {},
   "source": [
    "# T1 - Programacao Concorrente\n",
    "\n",
    "\n",
    "# Objetivo\n",
    "Implementar em C no Linux o programa CONTROLADOR, o qual deve incluir as seguintes funcionalidades de controle:\n",
    "\n",
    "- Laço de controle como tarefa periódica para a temperatura;\n",
    "- Uso do tanque auxiliar e da saída de água;\n",
    "- Informações na tela sobre a situação corrente.\n",
    "\n",
    "Outros requisitos:\n",
    "- Não usar threads;\n",
    "- Período do controlador de temperatura deve ser 30ms exato, ver exemplo;\n",
    "- Atualização da tela pode ser aproximadamente a cada 1 segundo.\n",
    "\n",
    "Adicionalmente:\n",
    "\n",
    "- Número de amostras >= 10000.\n",
    "- Usar como unidade microsegundo nos gráficos.\n",
    "- Fazer a coleta dos dados em máquina real e não em máquina virtual.\n",
    "- Gerar relatório em PDF com texto descrevendo as observações e os gráficos."
   ]
  },
  {
   "cell_type": "code",
   "execution_count": 55,
   "metadata": {},
   "outputs": [],
   "source": [
    "import pandas as pd\n",
    "import seaborn as sns\n",
    "from matplotlib import pyplot as plt"
   ]
  },
  {
   "cell_type": "code",
   "execution_count": 51,
   "metadata": {
    "scrolled": true
   },
   "outputs": [
    {
     "data": {
      "text/html": [
       "<div>\n",
       "<style scoped>\n",
       "    .dataframe tbody tr th:only-of-type {\n",
       "        vertical-align: middle;\n",
       "    }\n",
       "\n",
       "    .dataframe tbody tr th {\n",
       "        vertical-align: top;\n",
       "    }\n",
       "\n",
       "    .dataframe thead th {\n",
       "        text-align: right;\n",
       "    }\n",
       "</style>\n",
       "<table border=\"1\" class=\"dataframe\">\n",
       "  <thead>\n",
       "    <tr style=\"text-align: right;\">\n",
       "      <th></th>\n",
       "      <th>response_times_ns</th>\n",
       "    </tr>\n",
       "  </thead>\n",
       "  <tbody>\n",
       "    <tr>\n",
       "      <th>0</th>\n",
       "      <td>13686254</td>\n",
       "    </tr>\n",
       "    <tr>\n",
       "      <th>1</th>\n",
       "      <td>880071</td>\n",
       "    </tr>\n",
       "    <tr>\n",
       "      <th>2</th>\n",
       "      <td>1043784</td>\n",
       "    </tr>\n",
       "    <tr>\n",
       "      <th>3</th>\n",
       "      <td>1041723</td>\n",
       "    </tr>\n",
       "    <tr>\n",
       "      <th>4</th>\n",
       "      <td>3820930</td>\n",
       "    </tr>\n",
       "    <tr>\n",
       "      <th>...</th>\n",
       "      <td>...</td>\n",
       "    </tr>\n",
       "    <tr>\n",
       "      <th>11430</th>\n",
       "      <td>1540230</td>\n",
       "    </tr>\n",
       "    <tr>\n",
       "      <th>11431</th>\n",
       "      <td>2039644</td>\n",
       "    </tr>\n",
       "    <tr>\n",
       "      <th>11432</th>\n",
       "      <td>1663689</td>\n",
       "    </tr>\n",
       "    <tr>\n",
       "      <th>11433</th>\n",
       "      <td>1743563</td>\n",
       "    </tr>\n",
       "    <tr>\n",
       "      <th>11434</th>\n",
       "      <td>19</td>\n",
       "    </tr>\n",
       "  </tbody>\n",
       "</table>\n",
       "<p>11435 rows × 1 columns</p>\n",
       "</div>"
      ],
      "text/plain": [
       "       response_times_ns\n",
       "0               13686254\n",
       "1                 880071\n",
       "2                1043784\n",
       "3                1041723\n",
       "4                3820930\n",
       "...                  ...\n",
       "11430            1540230\n",
       "11431            2039644\n",
       "11432            1663689\n",
       "11433            1743563\n",
       "11434                 19\n",
       "\n",
       "[11435 rows x 1 columns]"
      ]
     },
     "metadata": {},
     "output_type": "display_data"
    },
    {
     "data": {
      "text/html": [
       "<div>\n",
       "<style scoped>\n",
       "    .dataframe tbody tr th:only-of-type {\n",
       "        vertical-align: middle;\n",
       "    }\n",
       "\n",
       "    .dataframe tbody tr th {\n",
       "        vertical-align: top;\n",
       "    }\n",
       "\n",
       "    .dataframe thead th {\n",
       "        text-align: right;\n",
       "    }\n",
       "</style>\n",
       "<table border=\"1\" class=\"dataframe\">\n",
       "  <thead>\n",
       "    <tr style=\"text-align: right;\">\n",
       "      <th></th>\n",
       "      <th>response_times_ns</th>\n",
       "    </tr>\n",
       "  </thead>\n",
       "  <tbody>\n",
       "    <tr>\n",
       "      <th>0</th>\n",
       "      <td>7947998</td>\n",
       "    </tr>\n",
       "    <tr>\n",
       "      <th>1</th>\n",
       "      <td>2968736</td>\n",
       "    </tr>\n",
       "    <tr>\n",
       "      <th>2</th>\n",
       "      <td>3161942</td>\n",
       "    </tr>\n",
       "    <tr>\n",
       "      <th>3</th>\n",
       "      <td>3299830</td>\n",
       "    </tr>\n",
       "    <tr>\n",
       "      <th>4</th>\n",
       "      <td>3433465</td>\n",
       "    </tr>\n",
       "    <tr>\n",
       "      <th>...</th>\n",
       "      <td>...</td>\n",
       "    </tr>\n",
       "    <tr>\n",
       "      <th>8329</th>\n",
       "      <td>1494169</td>\n",
       "    </tr>\n",
       "    <tr>\n",
       "      <th>8330</th>\n",
       "      <td>569487</td>\n",
       "    </tr>\n",
       "    <tr>\n",
       "      <th>8331</th>\n",
       "      <td>2430160</td>\n",
       "    </tr>\n",
       "    <tr>\n",
       "      <th>8332</th>\n",
       "      <td>3126668</td>\n",
       "    </tr>\n",
       "    <tr>\n",
       "      <th>8333</th>\n",
       "      <td>21</td>\n",
       "    </tr>\n",
       "  </tbody>\n",
       "</table>\n",
       "<p>8334 rows × 1 columns</p>\n",
       "</div>"
      ],
      "text/plain": [
       "      response_times_ns\n",
       "0               7947998\n",
       "1               2968736\n",
       "2               3161942\n",
       "3               3299830\n",
       "4               3433465\n",
       "...                 ...\n",
       "8329            1494169\n",
       "8330             569487\n",
       "8331            2430160\n",
       "8332            3126668\n",
       "8333                 21\n",
       "\n",
       "[8334 rows x 1 columns]"
      ]
     },
     "metadata": {},
     "output_type": "display_data"
    },
    {
     "data": {
      "text/html": [
       "<div>\n",
       "<style scoped>\n",
       "    .dataframe tbody tr th:only-of-type {\n",
       "        vertical-align: middle;\n",
       "    }\n",
       "\n",
       "    .dataframe tbody tr th {\n",
       "        vertical-align: top;\n",
       "    }\n",
       "\n",
       "    .dataframe thead th {\n",
       "        text-align: right;\n",
       "    }\n",
       "</style>\n",
       "<table border=\"1\" class=\"dataframe\">\n",
       "  <thead>\n",
       "    <tr style=\"text-align: right;\">\n",
       "      <th></th>\n",
       "      <th>response_times_ns</th>\n",
       "    </tr>\n",
       "  </thead>\n",
       "  <tbody>\n",
       "    <tr>\n",
       "      <th>0</th>\n",
       "      <td>155981</td>\n",
       "    </tr>\n",
       "    <tr>\n",
       "      <th>1</th>\n",
       "      <td>2157493</td>\n",
       "    </tr>\n",
       "    <tr>\n",
       "      <th>2</th>\n",
       "      <td>99282</td>\n",
       "    </tr>\n",
       "    <tr>\n",
       "      <th>3</th>\n",
       "      <td>62346</td>\n",
       "    </tr>\n",
       "    <tr>\n",
       "      <th>4</th>\n",
       "      <td>61047</td>\n",
       "    </tr>\n",
       "    <tr>\n",
       "      <th>...</th>\n",
       "      <td>...</td>\n",
       "    </tr>\n",
       "    <tr>\n",
       "      <th>59350</th>\n",
       "      <td>480305</td>\n",
       "    </tr>\n",
       "    <tr>\n",
       "      <th>59351</th>\n",
       "      <td>67024</td>\n",
       "    </tr>\n",
       "    <tr>\n",
       "      <th>59352</th>\n",
       "      <td>1224265</td>\n",
       "    </tr>\n",
       "    <tr>\n",
       "      <th>59353</th>\n",
       "      <td>69039</td>\n",
       "    </tr>\n",
       "    <tr>\n",
       "      <th>59354</th>\n",
       "      <td>81200</td>\n",
       "    </tr>\n",
       "  </tbody>\n",
       "</table>\n",
       "<p>59355 rows × 1 columns</p>\n",
       "</div>"
      ],
      "text/plain": [
       "       response_times_ns\n",
       "0                 155981\n",
       "1                2157493\n",
       "2                  99282\n",
       "3                  62346\n",
       "4                  61047\n",
       "...                  ...\n",
       "59350             480305\n",
       "59351              67024\n",
       "59352            1224265\n",
       "59353              69039\n",
       "59354              81200\n",
       "\n",
       "[59355 rows x 1 columns]"
      ]
     },
     "execution_count": 51,
     "metadata": {},
     "output_type": "execute_result"
    }
   ],
   "source": [
    "NANOSEC_PER_MICRO = 1000\n",
    "temperature_response_times = pd.read_csv('temperature.csv', header=None)\n",
    "temperature_response_times.columns = ['response_times_ns']\n",
    "display(temperature_response_times)\n",
    "\n",
    "height_response_times = pd.read_csv('height.csv', header=None)\n",
    "height_response_times.columns = ['response_times_ns']\n",
    "display(height_response_times)\n",
    "\n",
    "alarm_response_times = pd.read_csv('alarm.csv', header=None)\n",
    "alarm_response_times.columns = ['response_times_ns']\n",
    "alarm_response_times"
   ]
  },
  {
   "cell_type": "code",
   "execution_count": 52,
   "metadata": {},
   "outputs": [],
   "source": [
    "def plot_resposnse_time(response_times, name):\n",
    "    rtmis = response_times.response_times_ns / NANOSEC_PER_MICRO\n",
    "\n",
    "    sns_plot = plt.figure(figsize=(15, 10))\n",
    "    sns.histplot(rtmis)\n",
    "    plt.title(f'Distribuição dos tempos de resposta para a(o) {name}')\n",
    "    plt.ylabel('Contagem')\n",
    "    plt.xlabel('Tempo de resposta [μs]')\n",
    "    # sns_plot.savefig(\"response_time_distribution.png\")\n",
    "    plt.show()\n",
    "\n",
    "    print(f'Numero de amostras: {response_times.shape[0]}')\n",
    "    print(f'Media: {rtmis.mean()} μs')\n",
    "    print(f'Mediana: {rtmis.median()} μs')\n",
    "    print(f'Desvio padrao: {rtmis.std()} μs')\n",
    "    print(f'Max: {rtmis.max()} μs')\n",
    "    print(f'Min: {rtmis.min()} μs')"
   ]
  },
  {
   "cell_type": "code",
   "execution_count": 54,
   "metadata": {
    "scrolled": false
   },
   "outputs": [
    {
     "name": "stdout",
     "output_type": "stream",
     "text": [
      "Grupo: David Steiner Sand - 17100655\n"
     ]
    },
    {
     "data": {
      "image/png": "[encoded data removed]",
      "text/plain": [
       "<Figure size 1080x720 with 1 Axes>"
      ]
     },
     "metadata": {
      "needs_background": "light"
     },
     "output_type": "display_data"
    },
    {
     "name": "stdout",
     "output_type": "stream",
     "text": [
      "Numero de amostras: 11435\n",
      "Media: 1843.6560842151289 μs\n",
      "Mediana: 1697.827 μs\n",
      "Desvio padrao: 1053.5956219113914 μs\n",
      "Max: 18402.301 μs\n",
      "Min: 0.019 μs\n"
     ]
    },
    {
     "data": {
      "image/png": "[encoded data removed]",
      "text/plain": [
       "<Figure size 1080x720 with 1 Axes>"
      ]
     },
     "metadata": {
      "needs_background": "light"
     },
     "output_type": "display_data"
    },
    {
     "name": "stdout",
     "output_type": "stream",
     "text": [
      "Numero de amostras: 8334\n",
      "Media: 1791.9636025917928 μs\n",
      "Mediana: 1621.8905 μs\n",
      "Desvio padrao: 1153.0716686940493 μs\n",
      "Max: 26648.831 μs\n",
      "Min: 0.021 μs\n"
     ]
    },
    {
     "data": {
      "image/png": "[encoded data removed]",
      "text/plain": [
       "<Figure size 1080x720 with 1 Axes>"
      ]
     },
     "metadata": {
      "needs_background": "light"
     },
     "output_type": "display_data"
    },
    {
     "name": "stdout",
     "output_type": "stream",
     "text": [
      "Numero de amostras: 59355\n",
      "Media: 152.59050277145985 μs\n",
      "Mediana: 115.117 μs\n",
      "Desvio padrao: 205.85046942255192 μs\n",
      "Max: 8988.437 μs\n",
      "Min: 18.489 μs\n",
      "\n",
      "Codigo fonte: https://github.com/davidssand/concurrent-programming\n"
     ]
    }
   ],
   "source": [
    "print('Grupo: David Steiner Sand - 17100655')\n",
    "plot_resposnse_time(temperature_response_times, 'Temperature')\n",
    "plot_resposnse_time(height_response_times, 'Altura')\n",
    "plot_resposnse_time(alarm_response_times, 'Alarme')\n",
    "print(f'\\nCodigo fonte: https://github.com/davidssand/concurrent-programming')"
   ]
  },
  {
   "cell_type": "code",
   "execution_count": null,
   "metadata": {},
   "outputs": [],
   "source": []
  }
 ],
 "metadata": {
  "kernelspec": {
   "display_name": "concurrent_programming",
   "language": "python",
   "name": "concurrent_programming"
  },
  "language_info": {
   "codemirror_mode": {
    "name": "ipython",
    "version": 3
   },
   "file_extension": ".py",
   "mimetype": "text/x-python",
   "name": "python",
   "nbconvert_exporter": "python",
   "pygments_lexer": "ipython3",
   "version": "3.6.9"
  }
 },
 "nbformat": 4,
 "nbformat_minor": 2
}
