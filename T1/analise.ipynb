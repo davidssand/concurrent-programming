{
 "cells": [
  {
   "cell_type": "markdown",
   "metadata": {},
   "source": [
    "# T1 - Programacao Concorrente\n",
    "\n",
    "\n",
    "# Objetivo\n",
    "Implementar em C no Linux o programa CONTROLADOR, o qual deve incluir as seguintes funcionalidades de controle:\n",
    "\n",
    "- Laço de controle como tarefa periódica para a temperatura;\n",
    "- Uso do tanque auxiliar e da saída de água;\n",
    "- Informações na tela sobre a situação corrente.\n",
    "\n",
    "Outros requisitos:\n",
    "- Não usar threads;\n",
    "- Período do controlador de temperatura deve ser 30ms exato, ver exemplo;\n",
    "- Atualização da tela pode ser aproximadamente a cada 1 segundo.\n",
    "\n",
    "Adicionalmente:\n",
    "\n",
    "- Número de amostras >= 10000.\n",
    "- Usar como unidade microsegundo nos gráficos.\n",
    "- Fazer a coleta dos dados em máquina real e não em máquina virtual.\n",
    "- Gerar relatório em PDF com texto descrevendo as observações e os gráficos."
   ]
  },
  {
   "cell_type": "code",
   "execution_count": 12,
   "metadata": {},
   "outputs": [],
   "source": [
    "import pandas as pd\n",
    "import seaborn as sns\n",
    "from matplotlib import pyplot as plt"
   ]
  },
  {
   "cell_type": "code",
   "execution_count": 50,
   "metadata": {},
   "outputs": [
    {
     "data": {
      "text/html": [
       "<div>\n",
       "<style scoped>\n",
       "    .dataframe tbody tr th:only-of-type {\n",
       "        vertical-align: middle;\n",
       "    }\n",
       "\n",
       "    .dataframe tbody tr th {\n",
       "        vertical-align: top;\n",
       "    }\n",
       "\n",
       "    .dataframe thead th {\n",
       "        text-align: right;\n",
       "    }\n",
       "</style>\n",
       "<table border=\"1\" class=\"dataframe\">\n",
       "  <thead>\n",
       "    <tr style=\"text-align: right;\">\n",
       "      <th></th>\n",
       "      <th>response_times_ns</th>\n",
       "    </tr>\n",
       "  </thead>\n",
       "  <tbody>\n",
       "    <tr>\n",
       "      <th>0</th>\n",
       "      <td>6435254</td>\n",
       "    </tr>\n",
       "    <tr>\n",
       "      <th>1</th>\n",
       "      <td>12910546</td>\n",
       "    </tr>\n",
       "    <tr>\n",
       "      <th>2</th>\n",
       "      <td>2407914</td>\n",
       "    </tr>\n",
       "    <tr>\n",
       "      <th>3</th>\n",
       "      <td>5497734</td>\n",
       "    </tr>\n",
       "    <tr>\n",
       "      <th>4</th>\n",
       "      <td>3386385</td>\n",
       "    </tr>\n",
       "    <tr>\n",
       "      <th>...</th>\n",
       "      <td>...</td>\n",
       "    </tr>\n",
       "    <tr>\n",
       "      <th>19995</th>\n",
       "      <td>1776268</td>\n",
       "    </tr>\n",
       "    <tr>\n",
       "      <th>19996</th>\n",
       "      <td>1313721</td>\n",
       "    </tr>\n",
       "    <tr>\n",
       "      <th>19997</th>\n",
       "      <td>1463333</td>\n",
       "    </tr>\n",
       "    <tr>\n",
       "      <th>19998</th>\n",
       "      <td>1345539</td>\n",
       "    </tr>\n",
       "    <tr>\n",
       "      <th>19999</th>\n",
       "      <td>1410218</td>\n",
       "    </tr>\n",
       "  </tbody>\n",
       "</table>\n",
       "<p>20000 rows × 1 columns</p>\n",
       "</div>"
      ],
      "text/plain": [
       "       response_times_ns\n",
       "0                6435254\n",
       "1               12910546\n",
       "2                2407914\n",
       "3                5497734\n",
       "4                3386385\n",
       "...                  ...\n",
       "19995            1776268\n",
       "19996            1313721\n",
       "19997            1463333\n",
       "19998            1345539\n",
       "19999            1410218\n",
       "\n",
       "[20000 rows x 1 columns]"
      ]
     },
     "execution_count": 50,
     "metadata": {},
     "output_type": "execute_result"
    }
   ],
   "source": [
    "MICROSEC_PER_SEC = 1000000\n",
    "response_times = pd.read_csv('response_times_20000.csv')\n",
    "response_times.columns = ['response_times_ns']\n",
    "response_times"
   ]
  },
  {
   "cell_type": "code",
   "execution_count": 64,
   "metadata": {},
   "outputs": [
    {
     "data": {
      "image/png": "[encoded data removed]",
      "text/plain": [
       "<Figure size 1080x720 with 1 Axes>"
      ]
     },
     "metadata": {
      "needs_background": "light"
     },
     "output_type": "display_data"
    },
    {
     "name": "stdout",
     "output_type": "stream",
     "text": [
      "Numero de amostras: 20000\n",
      "Media: 1.5322609378 μs\n",
      "Mediana: 1.4430109999999998 μs\n",
      "Desvio padrao: 0.6348227007513854 μs\n",
      "Max: 26.305061 μs\n",
      "Min: 0.316344 μs\n"
     ]
    }
   ],
   "source": [
    "rtmis = response_times.response_times_ns / MICROSEC_PER_SEC\n",
    "\n",
    "sns_plot = plt.figure(figsize=(15, 10))\n",
    "sns.histplot(rtmis)\n",
    "plt.title('Distribuição dos tempos de resposta para controle da caldeira')\n",
    "plt.ylabel('Contagem')\n",
    "plt.xlabel('Tempo de resposta [μs]')\n",
    "# sns_plot.savefig(\"response_time_distribution.png\")\n",
    "plt.show()\n",
    "\n",
    "print(f'Numero de amostras: {response_times.shape[0]}')\n",
    "print(f'Media: {rtmis.mean()} μs')\n",
    "print(f'Mediana: {rtmis.median()} μs')\n",
    "print(f'Desvio padrao: {rtmis.std()} μs')\n",
    "print(f'Max: {rtmis.max()} μs')\n",
    "print(f'Min: {rtmis.min()} μs')"
   ]
  },
  {
   "cell_type": "code",
   "execution_count": null,
   "metadata": {},
   "outputs": [],
   "source": []
  }
 ],
 "metadata": {
  "kernelspec": {
   "display_name": "concurrent_programming",
   "language": "python",
   "name": "concurrent_programming"
  },
  "language_info": {
   "codemirror_mode": {
    "name": "ipython",
    "version": 3
   },
   "file_extension": ".py",
   "mimetype": "text/x-python",
   "name": "python",
   "nbconvert_exporter": "python",
   "pygments_lexer": "ipython3",
   "version": "3.6.9"
  }
 },
 "nbformat": 4,
 "nbformat_minor": 2
}
